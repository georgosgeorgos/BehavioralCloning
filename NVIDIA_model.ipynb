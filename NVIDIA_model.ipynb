{
 "cells": [
  {
   "cell_type": "code",
   "execution_count": 1,
   "metadata": {},
   "outputs": [
    {
     "name": "stderr",
     "output_type": "stream",
     "text": [
      "Using TensorFlow backend.\n"
     ]
    }
   ],
   "source": [
    "import os\n",
    "import csv\n",
    "import cv2\n",
    "import math\n",
    "import pickle\n",
    "import numpy as np\n",
    "from keras import optimizers\n",
    "import matplotlib.pyplot as plt\n",
    "import matplotlib.image as mpimg\n",
    "from sklearn.utils import shuffle\n",
    "from keras.models import load_model\n",
    "from keras.preprocessing import image\n",
    "from keras.models import Model, Sequential\n",
    "from sklearn.model_selection import train_test_split\n",
    "from keras.preprocessing.image import ImageDataGenerator\n",
    "from keras.layers.normalization import BatchNormalization\n",
    "from keras.layers import Input, Flatten, Dense, Activation, Dropout, Lambda, Cropping2D, Convolution2D"
   ]
  },
  {
   "cell_type": "code",
   "execution_count": null,
   "metadata": {
    "collapsed": true
   },
   "outputs": [],
   "source": [
    "# 'steering', 'throttle', 'brake', 'speed'"
   ]
  },
  {
   "cell_type": "code",
   "execution_count": 2,
   "metadata": {
    "collapsed": true
   },
   "outputs": [],
   "source": [
    "def generate_labels_track1(root=\"./data/data/\"):\n",
    "    labels = []\n",
    "    with open(root+\"driving_log.csv\") as file:\n",
    "        for row in csv.reader(file):\n",
    "            labels.append(row)\n",
    "    labels = labels[1:]\n",
    "    return labels"
   ]
  },
  {
   "cell_type": "code",
   "execution_count": 3,
   "metadata": {
    "collapsed": true
   },
   "outputs": [],
   "source": [
    "def generate_labels_track2(root=\"./data2/\"):\n",
    "    labels = []\n",
    "    with open(root+\"driving_log.csv\") as file:\n",
    "        for row in csv.reader(file):\n",
    "            temp = []\n",
    "            for r in row[:3]:\n",
    "                t = r.split(\"/IMG/\")\n",
    "                r = t[0] + \"/data2/IMG/\" + t[1]\n",
    "                temp.append(r)\n",
    "            temp.extend(row[3:])\n",
    "            labels.append(temp)\n",
    "    labels = labels[300:]\n",
    "    return labels"
   ]
  },
  {
   "cell_type": "code",
   "execution_count": 4,
   "metadata": {
    "collapsed": true
   },
   "outputs": [],
   "source": [
    "labels = generate_labels_track1()"
   ]
  },
  {
   "cell_type": "code",
   "execution_count": 5,
   "metadata": {
    "collapsed": true
   },
   "outputs": [],
   "source": [
    "labels2 = generate_labels_track2()"
   ]
  },
  {
   "cell_type": "code",
   "execution_count": 6,
   "metadata": {
    "collapsed": true
   },
   "outputs": [],
   "source": [
    "def data_generator(labels, root=\"./data/data/IMG/\", batch_size=32, N=1/2, k=0.2):\n",
    "    \n",
    "    '''generate batch of data'''\n",
    "    \n",
    "    train_size = len(labels)\n",
    "    while True: # Loop forever so the generator never terminates\n",
    "        \n",
    "        labels = shuffle(labels)\n",
    "        \n",
    "        for x in range(0, train_size, batch_size):\n",
    "            batch = labels[x:(x + batch_size)]\n",
    "            \n",
    "        images = []\n",
    "        angles = []\n",
    "        \n",
    "        for b in batch:\n",
    "            \n",
    "            if np.random.random() < 0.5:\n",
    "                # central camera\n",
    "                name = root + b[0].split('/')[-1]\n",
    "                center_image = cv2.imread(name)\n",
    "                center_image = cv2.cvtColor(center_image, cv2.COLOR_BGR2RGB)\n",
    "                center_angle = float(b[3])\n",
    "                images.append(center_image)\n",
    "                angles.append(center_angle)\n",
    "            else:\n",
    "                # flip central camera\n",
    "                name = root + b[0].split('/')[-1]\n",
    "                center_image = cv2.imread(name)\n",
    "                center_image = cv2.cvtColor(center_image, cv2.COLOR_BGR2RGB)\n",
    "                center_image = np.fliplr(center_image)\n",
    "                center_angle = -float(b[3])\n",
    "                images.append(center_image)\n",
    "                angles.append(center_angle)\n",
    "#             else:\n",
    "#                 # use left and right camera\n",
    "#                 if np.random.random() < 0.5:\n",
    "#                     name = root + b[1].split('/')[-1]\n",
    "#                     left_image = cv2.imread(name)\n",
    "#                     left_image = cv2.cvtColor(left_image, cv2.COLOR_BGR2RGB)\n",
    "#                     left_angle = float(b[3]) + k\n",
    "#                     images.append(left_image)\n",
    "#                     angles.append(left_angle)\n",
    "#                 else:\n",
    "#                     name = root + b[2].split('/')[-1]\n",
    "#                     right_image = cv2.imread(name)\n",
    "#                     right_image = cv2.cvtColor(right_image, cv2.COLOR_BGR2RGB)\n",
    "#                     right_angle = float(b[3]) - k\n",
    "#                     images.append(right_image)\n",
    "#                     angles.append(right_angle)\n",
    "                \n",
    "            #data augmentation    \n",
    "            \n",
    "                \n",
    "            \n",
    "        x_train = np.array(images)\n",
    "        y_train = np.array(angles)\n",
    "        yield (x_train, y_train)"
   ]
  },
  {
   "cell_type": "code",
   "execution_count": 7,
   "metadata": {
    "collapsed": true
   },
   "outputs": [],
   "source": [
    "train_samples, validation_samples = train_test_split(labels, test_size=0.2)"
   ]
  },
  {
   "cell_type": "code",
   "execution_count": 8,
   "metadata": {
    "collapsed": true
   },
   "outputs": [],
   "source": [
    "train_generator = data_generator(train_samples)\n",
    "validation_generator = data_generator(validation_samples)"
   ]
  },
  {
   "cell_type": "code",
   "execution_count": 9,
   "metadata": {
    "collapsed": true
   },
   "outputs": [],
   "source": [
    "def Net(input_shape, crop):\n",
    "\n",
    "    model = Sequential()\n",
    "    model.add(Cropping2D(cropping=crop, input_shape=input_shape))\n",
    "    model.add(Lambda(lambda x: (x / 255.0) - 0.5)) \n",
    "    model.add(Convolution2D(24, 5, 5, border_mode='valid', subsample=(2,2), activation=\"relu\", init=\"he_normal\"))\n",
    "    model.add(BatchNormalization())\n",
    "    model.add(Convolution2D(36, 5, 5, border_mode='valid', subsample=(2,2), activation=\"relu\", init=\"he_normal\"))\n",
    "    model.add(BatchNormalization())\n",
    "    model.add(Convolution2D(48, 5, 5, border_mode='valid', subsample=(2,2), activation=\"relu\", init=\"he_normal\"))\n",
    "    model.add(BatchNormalization())\n",
    "    model.add(Convolution2D(64, 3, 3, border_mode='valid', subsample=(2,2), activation=\"relu\", init=\"he_normal\"))\n",
    "    model.add(BatchNormalization())\n",
    "    model.add(Convolution2D(64, 3, 3, border_mode='valid', subsample=(2,2), activation=\"relu\", init=\"he_normal\"))\n",
    "    model.add(BatchNormalization())\n",
    "    model.add(Flatten())\n",
    "    model.add(Dropout(0.5))\n",
    "    model.add(Dense(100, activation='relu', init=\"he_normal\"))\n",
    "    model.add(BatchNormalization())\n",
    "    model.add(Dense(50, activation='relu', init=\"he_normal\"))\n",
    "    model.add(BatchNormalization())\n",
    "    model.add(Dense(10, activation='relu', init=\"he_normal\"))\n",
    "    model.add(BatchNormalization())\n",
    "    model.add(Dense(1))\n",
    "    \n",
    "    return model"
   ]
  },
  {
   "cell_type": "code",
   "execution_count": 10,
   "metadata": {
    "collapsed": true
   },
   "outputs": [],
   "source": [
    "model = Net((160,320,3), ((50,20), (0,0)))"
   ]
  },
  {
   "cell_type": "code",
   "execution_count": 11,
   "metadata": {
    "collapsed": true
   },
   "outputs": [],
   "source": [
    "model.compile(loss='mse', optimizer=\"adam\")"
   ]
  },
  {
   "cell_type": "code",
   "execution_count": 12,
   "metadata": {
    "collapsed": true
   },
   "outputs": [],
   "source": [
    "batch_size = 32"
   ]
  },
  {
   "cell_type": "code",
   "execution_count": 13,
   "metadata": {
    "collapsed": true
   },
   "outputs": [],
   "source": [
    "train_sample_size = math.ceil(len(train_samples) / batch_size) * batch_size\n",
    "validation_sample_size = math.ceil(len(validation_samples) / batch_size) * batch_size"
   ]
  },
  {
   "cell_type": "code",
   "execution_count": 14,
   "metadata": {
    "scrolled": true
   },
   "outputs": [
    {
     "name": "stdout",
     "output_type": "stream",
     "text": [
      "Epoch 1/40\n",
      "6468/6468 [==============================] - 25s - loss: 0.4092 - val_loss: 0.0558\n",
      "Epoch 2/40\n",
      "6468/6468 [==============================] - 24s - loss: 0.0549 - val_loss: 0.0261\n",
      "Epoch 3/40\n",
      "6468/6468 [==============================] - 24s - loss: 0.0308 - val_loss: 0.0215\n",
      "Epoch 4/40\n",
      "6468/6468 [==============================] - 24s - loss: 0.0245 - val_loss: 0.0147\n",
      "Epoch 5/40\n",
      "6468/6468 [==============================] - 24s - loss: 0.0205 - val_loss: 0.0133\n",
      "Epoch 6/40\n",
      "6468/6468 [==============================] - 24s - loss: 0.0189 - val_loss: 0.0137\n",
      "Epoch 7/40\n",
      "6468/6468 [==============================] - 24s - loss: 0.0166 - val_loss: 0.0109\n",
      "Epoch 8/40\n",
      "6468/6468 [==============================] - 24s - loss: 0.0156 - val_loss: 0.0135\n",
      "Epoch 9/40\n",
      "6468/6468 [==============================] - 24s - loss: 0.0150 - val_loss: 0.0116\n",
      "Epoch 10/40\n",
      "6468/6468 [==============================] - 24s - loss: 0.0141 - val_loss: 0.0116\n",
      "Epoch 11/40\n",
      "6468/6468 [==============================] - 24s - loss: 0.0131 - val_loss: 0.0099\n",
      "Epoch 12/40\n",
      "6468/6468 [==============================] - 24s - loss: 0.0128 - val_loss: 0.0100\n",
      "Epoch 13/40\n",
      "6468/6468 [==============================] - 24s - loss: 0.0124 - val_loss: 0.0115\n",
      "Epoch 14/40\n",
      "6468/6468 [==============================] - 24s - loss: 0.0121 - val_loss: 0.0107\n",
      "Epoch 15/40\n",
      "6468/6468 [==============================] - 24s - loss: 0.0114 - val_loss: 0.0107\n",
      "Epoch 16/40\n",
      "6468/6468 [==============================] - 24s - loss: 0.0118 - val_loss: 0.0097\n",
      "Epoch 17/40\n",
      "6468/6468 [==============================] - 23s - loss: 0.0114 - val_loss: 0.0099\n",
      "Epoch 18/40\n",
      "6468/6468 [==============================] - 24s - loss: 0.0110 - val_loss: 0.0104\n",
      "Epoch 19/40\n",
      "6468/6468 [==============================] - 24s - loss: 0.0109 - val_loss: 0.0100\n",
      "Epoch 20/40\n",
      "6468/6468 [==============================] - 23s - loss: 0.0108 - val_loss: 0.0112\n",
      "Epoch 21/40\n",
      "6468/6468 [==============================] - 24s - loss: 0.0108 - val_loss: 0.0096\n",
      "Epoch 22/40\n",
      "6468/6468 [==============================] - 24s - loss: 0.0109 - val_loss: 0.0109\n",
      "Epoch 23/40\n",
      "6468/6468 [==============================] - 24s - loss: 0.0110 - val_loss: 0.0113\n",
      "Epoch 24/40\n",
      "6468/6468 [==============================] - 24s - loss: 0.0097 - val_loss: 0.0096\n",
      "Epoch 25/40\n",
      "6468/6468 [==============================] - 24s - loss: 0.0098 - val_loss: 0.0097\n",
      "Epoch 26/40\n",
      "6468/6468 [==============================] - 24s - loss: 0.0093 - val_loss: 0.0102\n",
      "Epoch 27/40\n",
      "6468/6468 [==============================] - 24s - loss: 0.0100 - val_loss: 0.0091\n",
      "Epoch 28/40\n",
      "6468/6468 [==============================] - 24s - loss: 0.0102 - val_loss: 0.0097\n",
      "Epoch 29/40\n",
      "6468/6468 [==============================] - 24s - loss: 0.0098 - val_loss: 0.0107\n",
      "Epoch 30/40\n",
      "6468/6468 [==============================] - 24s - loss: 0.0090 - val_loss: 0.0108\n",
      "Epoch 31/40\n",
      "6468/6468 [==============================] - 23s - loss: 0.0095 - val_loss: 0.0122\n",
      "Epoch 32/40\n",
      "6468/6468 [==============================] - 24s - loss: 0.0088 - val_loss: 0.0097\n",
      "Epoch 33/40\n",
      "6468/6468 [==============================] - 24s - loss: 0.0094 - val_loss: 0.0109\n",
      "Epoch 34/40\n",
      "6468/6468 [==============================] - 23s - loss: 0.0089 - val_loss: 0.0115\n",
      "Epoch 35/40\n",
      "6468/6468 [==============================] - 24s - loss: 0.0096 - val_loss: 0.0101\n",
      "Epoch 36/40\n",
      "6468/6468 [==============================] - 23s - loss: 0.0092 - val_loss: 0.0090\n",
      "Epoch 37/40\n",
      "6468/6468 [==============================] - 23s - loss: 0.0088 - val_loss: 0.0090\n",
      "Epoch 38/40\n",
      "6468/6468 [==============================] - 23s - loss: 0.0093 - val_loss: 0.0106\n",
      "Epoch 39/40\n",
      "6468/6468 [==============================] - 23s - loss: 0.0087 - val_loss: 0.0097\n",
      "Epoch 40/40\n",
      "6468/6468 [==============================] - 24s - loss: 0.0090 - val_loss: 0.0097\n"
     ]
    }
   ],
   "source": [
    "try:\n",
    "    h = model.fit_generator(train_generator, samples_per_epoch=6468, \n",
    "                    validation_data=validation_generator, nb_val_samples=validation_sample_size, \n",
    "                    nb_epoch=40, verbose=1)\n",
    "    model.save('NVIDIA_model_drop.h5')\n",
    "except KeyboardInterrupt:\n",
    "    model.save('NVIDIA_model_drop.h5') "
   ]
  },
  {
   "cell_type": "code",
   "execution_count": 15,
   "metadata": {},
   "outputs": [
    {
     "data": {
      "image/png": "[encoded data removed]",
      "text/plain": [
       "<matplotlib.figure.Figure at 0x7fd62e57bef0>"
      ]
     },
     "metadata": {},
     "output_type": "display_data"
    }
   ],
   "source": [
    "### plot the training and validation loss for each epoch\n",
    "plt.plot(h.history['loss'])\n",
    "plt.plot(h.history['val_loss'])\n",
    "plt.title('model mean squared error loss')\n",
    "plt.ylabel('mean squared error loss')\n",
    "plt.xlabel('epoch')\n",
    "plt.legend(['training set', 'validation set'], loc='upper right')\n",
    "plt.grid()\n",
    "plt.show()"
   ]
  },
  {
   "cell_type": "code",
   "execution_count": 16,
   "metadata": {},
   "outputs": [
    {
     "name": "stdout",
     "output_type": "stream",
     "text": [
      "____________________________________________________________________________________________________\n",
      "Layer (type)                     Output Shape          Param #     Connected to                     \n",
      "====================================================================================================\n",
      "cropping2d_1 (Cropping2D)        (None, 90, 320, 3)    0           cropping2d_input_1[0][0]         \n",
      "____________________________________________________________________________________________________\n",
      "lambda_1 (Lambda)                (None, 90, 320, 3)    0           cropping2d_1[0][0]               \n",
      "____________________________________________________________________________________________________\n",
      "convolution2d_1 (Convolution2D)  (None, 43, 158, 24)   1824        lambda_1[0][0]                   \n",
      "____________________________________________________________________________________________________\n",
      "batchnormalization_1 (BatchNorma (None, 43, 158, 24)   96          convolution2d_1[0][0]            \n",
      "____________________________________________________________________________________________________\n",
      "convolution2d_2 (Convolution2D)  (None, 20, 77, 36)    21636       batchnormalization_1[0][0]       \n",
      "____________________________________________________________________________________________________\n",
      "batchnormalization_2 (BatchNorma (None, 20, 77, 36)    144         convolution2d_2[0][0]            \n",
      "____________________________________________________________________________________________________\n",
      "convolution2d_3 (Convolution2D)  (None, 8, 37, 48)     43248       batchnormalization_2[0][0]       \n",
      "____________________________________________________________________________________________________\n",
      "batchnormalization_3 (BatchNorma (None, 8, 37, 48)     192         convolution2d_3[0][0]            \n",
      "____________________________________________________________________________________________________\n",
      "convolution2d_4 (Convolution2D)  (None, 3, 18, 64)     27712       batchnormalization_3[0][0]       \n",
      "____________________________________________________________________________________________________\n",
      "batchnormalization_4 (BatchNorma (None, 3, 18, 64)     256         convolution2d_4[0][0]            \n",
      "____________________________________________________________________________________________________\n",
      "convolution2d_5 (Convolution2D)  (None, 1, 8, 64)      36928       batchnormalization_4[0][0]       \n",
      "____________________________________________________________________________________________________\n",
      "batchnormalization_5 (BatchNorma (None, 1, 8, 64)      256         convolution2d_5[0][0]            \n",
      "____________________________________________________________________________________________________\n",
      "flatten_1 (Flatten)              (None, 512)           0           batchnormalization_5[0][0]       \n",
      "____________________________________________________________________________________________________\n",
      "dropout_1 (Dropout)              (None, 512)           0           flatten_1[0][0]                  \n",
      "____________________________________________________________________________________________________\n",
      "dense_1 (Dense)                  (None, 100)           51300       dropout_1[0][0]                  \n",
      "____________________________________________________________________________________________________\n",
      "batchnormalization_6 (BatchNorma (None, 100)           400         dense_1[0][0]                    \n",
      "____________________________________________________________________________________________________\n",
      "dense_2 (Dense)                  (None, 50)            5050        batchnormalization_6[0][0]       \n",
      "____________________________________________________________________________________________________\n",
      "batchnormalization_7 (BatchNorma (None, 50)            200         dense_2[0][0]                    \n",
      "____________________________________________________________________________________________________\n",
      "dense_3 (Dense)                  (None, 10)            510         batchnormalization_7[0][0]       \n",
      "____________________________________________________________________________________________________\n",
      "batchnormalization_8 (BatchNorma (None, 10)            40          dense_3[0][0]                    \n",
      "____________________________________________________________________________________________________\n",
      "dense_4 (Dense)                  (None, 1)             11          batchnormalization_8[0][0]       \n",
      "====================================================================================================\n",
      "Total params: 189,803\n",
      "Trainable params: 189,011\n",
      "Non-trainable params: 792\n",
      "____________________________________________________________________________________________________\n"
     ]
    }
   ],
   "source": [
    "model.summary()"
   ]
  }
 ],
 "metadata": {
  "kernelspec": {
   "display_name": "Python 3",
   "language": "python",
   "name": "python3"
  },
  "language_info": {
   "codemirror_mode": {
    "name": "ipython",
    "version": 3
   },
   "file_extension": ".py",
   "mimetype": "text/x-python",
   "name": "python",
   "nbconvert_exporter": "python",
   "pygments_lexer": "ipython3",
   "version": "3.5.2"
  },
  "widgets": {
   "state": {},
   "version": "1.1.2"
  }
 },
 "nbformat": 4,
 "nbformat_minor": 2
}
